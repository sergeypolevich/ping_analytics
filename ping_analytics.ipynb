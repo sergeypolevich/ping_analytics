{
 "cells": [
  {
   "cell_type": "code",
   "execution_count": 1,
   "id": "d12e502f",
   "metadata": {},
   "outputs": [],
   "source": [
    "import subprocess\n",
    "import time\n",
    "import plotly.graph_objects as go"
   ]
  },
  {
   "cell_type": "code",
   "execution_count": 2,
   "id": "90eb535b",
   "metadata": {
    "scrolled": false
   },
   "outputs": [
    {
     "data": {
      "application/vnd.jupyter.widget-view+json": {
       "model_id": "050056f72b13448cb0d450743f3fda42",
       "version_major": 2,
       "version_minor": 0
      },
      "text/plain": [
       "FigureWidget({\n",
       "    'data': [{'type': 'bar', 'uid': 'd4ae1a63-44e5-4dc0-9436-9f65cf4b82aa'}], 'layout': {'templ…"
      ]
     },
     "metadata": {},
     "output_type": "display_data"
    }
   ],
   "source": [
    "fig = go.FigureWidget()\n",
    "fig.add_bar()\n",
    "fig"
   ]
  },
  {
   "cell_type": "code",
   "execution_count": 4,
   "id": "7e79810d",
   "metadata": {},
   "outputs": [],
   "source": [
    "data2=[]\n",
    "for i in range(10):\n",
    "    ping_response = subprocess.Popen([\"ping\", \"-c 1\",  \"8.8.8.8\"], stdout=subprocess.PIPE).stdout.read()\n",
    "    try:\n",
    "        a=ping_response.decode().split('\\n')[1].split()[6]\n",
    "    except:\n",
    "        a='time=5000.000'\n",
    "    data2.append(int(a[5:-4]))\n",
    "    fig.data[0].y = data2\n",
    "    time.sleep(3)"
   ]
  }
 ],
 "metadata": {
  "kernelspec": {
   "display_name": "Python 3 (ipykernel)",
   "language": "python",
   "name": "python3"
  },
  "language_info": {
   "codemirror_mode": {
    "name": "ipython",
    "version": 3
   },
   "file_extension": ".py",
   "mimetype": "text/x-python",
   "name": "python",
   "nbconvert_exporter": "python",
   "pygments_lexer": "ipython3",
   "version": "3.9.12"
  }
 },
 "nbformat": 4,
 "nbformat_minor": 5
}
